{
 "cells": [
  {
   "cell_type": "markdown",
   "metadata": {
    "colab_type": "text",
    "id": "Mzs5_j_Hc37B"
   },
   "source": [
    "## **Libraries imported**"
   ]
  },
  {
   "cell_type": "code",
   "execution_count": 57,
   "metadata": {
    "colab": {},
    "colab_type": "code",
    "id": "9YVObV2Lb-yR"
   },
   "outputs": [],
   "source": [
    "# from google.colab import files\n",
    "from sklearn.preprocessing import StandardScaler, OneHotEncoder\n",
    "from sklearn.impute import SimpleImputer\n",
    "from sklearn_pandas import CategoricalImputer\n",
    "from sklearn.compose import make_column_transformer, ColumnTransformer\n",
    "from sklearn.pipeline import make_pipeline\n",
    "from sklearn.linear_model import LogisticRegression\n",
    "from sklearn.svm import LinearSVC, SVC\n",
    "from sklearn.ensemble import RandomForestClassifier, GradientBoostingClassifier\n",
    "from sklearn.tree import DecisionTreeClassifier\n",
    "from sklearn.model_selection import cross_validate, StratifiedKFold\n",
    "from sklearn.mixture import GaussianMixture\n",
    "from sklearn.neural_network import MLPClassifier\n",
    "import pandas as pd\n",
    "import numpy as np\n",
    "import seaborn as sns\n",
    "import matplotlib.pyplot as plt\n",
    "from pylab import rcParams"
   ]
  },
  {
   "cell_type": "code",
   "execution_count": 5,
   "metadata": {
    "colab": {
     "base_uri": "https://localhost:8080/",
     "height": 34
    },
    "colab_type": "code",
    "executionInfo": {
     "elapsed": 8974,
     "status": "ok",
     "timestamp": 1579833815036,
     "user": {
      "displayName": "Sarthak Thakur",
      "photoUrl": "https://lh3.googleusercontent.com/a-/AAuE7mAWk0GsK1qC19pEpt03n05cO2zE4lKukkLNKOD3HQ=s64",
      "userId": "17572914148893804079"
     },
     "user_tz": -330
    },
    "id": "lHzdb4XIc2TY",
    "outputId": "ca414bc5-d1d6-44a5-e54a-141c79ece4d4"
   },
   "outputs": [
    {
     "data": {
      "text/plain": [
       "(1170952, 41)"
      ]
     },
     "execution_count": 5,
     "metadata": {},
     "output_type": "execute_result"
    }
   ],
   "source": [
    "train = pd.read_csv('train.psv', delimiter = '|')\n",
    "train.shape"
   ]
  },
  {
   "cell_type": "code",
   "execution_count": 6,
   "metadata": {
    "colab": {
     "base_uri": "https://localhost:8080/",
     "height": 153
    },
    "colab_type": "code",
    "executionInfo": {
     "elapsed": 8783,
     "status": "ok",
     "timestamp": 1579833815037,
     "user": {
      "displayName": "Sarthak Thakur",
      "photoUrl": "https://lh3.googleusercontent.com/a-/AAuE7mAWk0GsK1qC19pEpt03n05cO2zE4lKukkLNKOD3HQ=s64",
      "userId": "17572914148893804079"
     },
     "user_tz": -330
    },
    "id": "r-_Zmt4IdYzN",
    "outputId": "ac4c1d85-8cc7-418c-f280-bdd983794821"
   },
   "outputs": [
    {
     "data": {
      "text/plain": [
       "Index(['HR', 'O2Sat', 'Temp', 'SBP', 'MAP', 'DBP', 'Resp', 'EtCO2',\n",
       "       'BaseExcess', 'HCO3', 'FiO2', 'pH', 'PaCO2', 'SaO2', 'AST', 'BUN',\n",
       "       'Alkalinephos', 'Calcium', 'Chloride', 'Creatinine', 'Bilirubin_direct',\n",
       "       'Glucose', 'Lactate', 'Magnesium', 'Phosphate', 'Potassium',\n",
       "       'Bilirubin_total', 'TroponinI', 'Hct', 'Hgb', 'PTT', 'WBC',\n",
       "       'Fibrinogen', 'Platelets', 'Age', 'Gender', 'Unit1', 'Unit2',\n",
       "       'HospAdmTime', 'ICULOS', 'SepsisLabel'],\n",
       "      dtype='object')"
      ]
     },
     "execution_count": 6,
     "metadata": {},
     "output_type": "execute_result"
    }
   ],
   "source": [
    "train.columns"
   ]
  },
  {
   "cell_type": "code",
   "execution_count": 7,
   "metadata": {
    "colab": {
     "base_uri": "https://localhost:8080/",
     "height": 68
    },
    "colab_type": "code",
    "executionInfo": {
     "elapsed": 8363,
     "status": "ok",
     "timestamp": 1579833815038,
     "user": {
      "displayName": "Sarthak Thakur",
      "photoUrl": "https://lh3.googleusercontent.com/a-/AAuE7mAWk0GsK1qC19pEpt03n05cO2zE4lKukkLNKOD3HQ=s64",
      "userId": "17572914148893804079"
     },
     "user_tz": -330
    },
    "id": "oAyJlazNhfnF",
    "outputId": "ad0756a9-709d-4aed-a556-8a8fa62dc8ea"
   },
   "outputs": [
    {
     "data": {
      "text/plain": [
       "0    1148526\n",
       "1      22426\n",
       "Name: SepsisLabel, dtype: int64"
      ]
     },
     "execution_count": 7,
     "metadata": {},
     "output_type": "execute_result"
    }
   ],
   "source": [
    "# Count of Sepsis\n",
    "train['SepsisLabel'].value_counts()"
   ]
  },
  {
   "cell_type": "code",
   "execution_count": 8,
   "metadata": {
    "colab": {
     "base_uri": "https://localhost:8080/",
     "height": 350
    },
    "colab_type": "code",
    "executionInfo": {
     "elapsed": 8162,
     "status": "ok",
     "timestamp": 1579833815039,
     "user": {
      "displayName": "Sarthak Thakur",
      "photoUrl": "https://lh3.googleusercontent.com/a-/AAuE7mAWk0GsK1qC19pEpt03n05cO2zE4lKukkLNKOD3HQ=s64",
      "userId": "17572914148893804079"
     },
     "user_tz": -330
    },
    "id": "vT9j6zxOdboi",
    "outputId": "e1fb8449-3e0b-4925-c1a8-217e08a16ddd"
   },
   "outputs": [
    {
     "data": {
      "image/png": "[encoded data removed]",
      "text/plain": [
       "<Figure size 360x360 with 1 Axes>"
      ]
     },
     "metadata": {
      "needs_background": "light"
     },
     "output_type": "display_data"
    }
   ],
   "source": [
    "rcParams['figure.figsize'] = 5, 5\n",
    "\n",
    "plt.bar(train['SepsisLabel'].value_counts().index,\n",
    "        train['SepsisLabel'].value_counts(), color=['black', 'red'])\n",
    "plt.xticks([0,1])\n",
    "plt.xlabel('Class')\n",
    "plt.title('Sepsis Label Distribution')\n",
    "_ = plt.ylabel('Frequency')"
   ]
  },
  {
   "cell_type": "code",
   "execution_count": 58,
   "metadata": {},
   "outputs": [
    {
     "data": {
      "text/plain": [
       "HR                   107328\n",
       "O2Sat                148890\n",
       "Temp                 774085\n",
       "SBP                  173214\n",
       "MAP                  136981\n",
       "DBP                  433407\n",
       "Resp                 157622\n",
       "EtCO2               1141946\n",
       "BaseExcess          1087773\n",
       "HCO3                1106693\n",
       "FiO2                1050036\n",
       "pH                  1071768\n",
       "PaCO2               1093087\n",
       "SaO2                1124581\n",
       "AST                 1152501\n",
       "BUN                 1085498\n",
       "Alkalinephos        1152757\n",
       "Calcium             1105506\n",
       "Chloride            1102844\n",
       "Creatinine          1097483\n",
       "Bilirubin_direct    1168871\n",
       "Glucose              989214\n",
       "Lactate             1136509\n",
       "Magnesium           1091125\n",
       "Phosphate           1119704\n",
       "Potassium           1055780\n",
       "Bilirubin_total     1154574\n",
       "TroponinI           1163178\n",
       "Hct                 1055984\n",
       "Hgb                 1078975\n",
       "PTT                 1129073\n",
       "WBC                 1091781\n",
       "Fibrinogen          1162861\n",
       "Platelets           1099316\n",
       "Age                       0\n",
       "Gender                    0\n",
       "Unit1                498582\n",
       "Unit2                498582\n",
       "HospAdmTime               8\n",
       "ICULOS                    0\n",
       "SepsisLabel               0\n",
       "dtype: int64"
      ]
     },
     "execution_count": 58,
     "metadata": {},
     "output_type": "execute_result"
    }
   ],
   "source": [
    "# Null Values\n",
    "train.isnull().sum()"
   ]
  },
  {
   "cell_type": "code",
   "execution_count": 59,
   "metadata": {
    "colab": {
     "base_uri": "https://localhost:8080/",
     "height": 731
    },
    "colab_type": "code",
    "executionInfo": {
     "elapsed": 61675,
     "status": "ok",
     "timestamp": 1579833869366,
     "user": {
      "displayName": "Sarthak Thakur",
      "photoUrl": "https://lh3.googleusercontent.com/a-/AAuE7mAWk0GsK1qC19pEpt03n05cO2zE4lKukkLNKOD3HQ=s64",
      "userId": "17572914148893804079"
     },
     "user_tz": -330
    },
    "id": "w-yDGSYdvFnq",
    "outputId": "371814a8-077b-454c-b10a-f8d4cb501354"
   },
   "outputs": [
    {
     "data": {
      "text/plain": [
       "HR                   9.165875\n",
       "O2Sat               12.715295\n",
       "Temp                66.107321\n",
       "SBP                 14.792579\n",
       "MAP                 11.698259\n",
       "DBP                 37.013217\n",
       "Resp                13.461013\n",
       "EtCO2               97.522870\n",
       "BaseExcess          92.896464\n",
       "HCO3                94.512243\n",
       "FiO2                89.673701\n",
       "pH                  91.529627\n",
       "PaCO2               93.350283\n",
       "SaO2                96.039889\n",
       "AST                 98.424274\n",
       "BUN                 92.702177\n",
       "Alkalinephos        98.446136\n",
       "Calcium             94.410873\n",
       "Chloride            94.183536\n",
       "Creatinine          93.725704\n",
       "Bilirubin_direct    99.822281\n",
       "Glucose             84.479466\n",
       "Lactate             97.058547\n",
       "Magnesium           93.182727\n",
       "Phosphate           95.623390\n",
       "Potassium           90.164242\n",
       "Bilirubin_total     98.601309\n",
       "TroponinI           99.336096\n",
       "Hct                 90.181664\n",
       "Hgb                 92.145109\n",
       "PTT                 96.423508\n",
       "WBC                 93.238749\n",
       "Fibrinogen          99.309024\n",
       "Platelets           93.882243\n",
       "Age                  0.000000\n",
       "Gender               0.000000\n",
       "Unit1               42.579201\n",
       "Unit2               42.579201\n",
       "HospAdmTime          0.000683\n",
       "ICULOS               0.000000\n",
       "SepsisLabel          0.000000\n",
       "dtype: float64"
      ]
     },
     "execution_count": 59,
     "metadata": {},
     "output_type": "execute_result"
    }
   ],
   "source": [
    "missing = (train.isnull().sum() / train.shape[0]) * 100\n",
    "missing"
   ]
  },
  {
   "cell_type": "code",
   "execution_count": 60,
   "metadata": {
    "colab": {
     "base_uri": "https://localhost:8080/",
     "height": 418
    },
    "colab_type": "code",
    "executionInfo": {
     "elapsed": 59040,
     "status": "ok",
     "timestamp": 1579833870038,
     "user": {
      "displayName": "Sarthak Thakur",
      "photoUrl": "https://lh3.googleusercontent.com/a-/AAuE7mAWk0GsK1qC19pEpt03n05cO2zE4lKukkLNKOD3HQ=s64",
      "userId": "17572914148893804079"
     },
     "user_tz": -330
    },
    "id": "TgAQfYjXwagB",
    "outputId": "9ce9d34c-12f0-45b9-d6c8-f68605f798dc"
   },
   "outputs": [
    {
     "data": {
      "text/plain": [
       "Text(0.5, 1.0, 'Missing Data Percentage')"
      ]
     },
     "execution_count": 60,
     "metadata": {},
     "output_type": "execute_result"
    },
    {
     "data": {
      "image/png": "[encoded data removed]",
      "text/plain": [
       "<Figure size 1008x360 with 1 Axes>"
      ]
     },
     "metadata": {
      "needs_background": "light"
     },
     "output_type": "display_data"
    }
   ],
   "source": [
    "rcParams['figure.figsize'] = 14, 5\n",
    "_ = plt.bar(missing.index, missing, color=(1.0,0.64,0,1))\n",
    "_ = plt.xticks(missing.index, rotation=90)\n",
    "\n",
    "plt.title(\"Missing Data Percentage\")\n"
   ]
  },
  {
   "cell_type": "code",
   "execution_count": 61,
   "metadata": {
    "colab": {
     "base_uri": "https://localhost:8080/",
     "height": 289
    },
    "colab_type": "code",
    "executionInfo": {
     "elapsed": 57543,
     "status": "ok",
     "timestamp": 1579833870039,
     "user": {
      "displayName": "Sarthak Thakur",
      "photoUrl": "https://lh3.googleusercontent.com/a-/AAuE7mAWk0GsK1qC19pEpt03n05cO2zE4lKukkLNKOD3HQ=s64",
      "userId": "17572914148893804079"
     },
     "user_tz": -330
    },
    "id": "FbQObn71znLV",
    "outputId": "26d526a1-1c25-4ed4-8748-62691a4578b7"
   },
   "outputs": [
    {
     "data": {
      "text/plain": [
       "['HR',\n",
       " 'O2Sat',\n",
       " 'Temp',\n",
       " 'SBP',\n",
       " 'MAP',\n",
       " 'DBP',\n",
       " 'Resp',\n",
       " 'FiO2',\n",
       " 'Glucose',\n",
       " 'Age',\n",
       " 'Gender',\n",
       " 'Unit1',\n",
       " 'Unit2',\n",
       " 'HospAdmTime',\n",
       " 'ICULOS',\n",
       " 'SepsisLabel']"
      ]
     },
     "execution_count": 61,
     "metadata": {},
     "output_type": "execute_result"
    }
   ],
   "source": [
    "# Filter out values which have too many NaN values\n",
    "cols = list(missing[missing < 90].index)\n",
    "cols"
   ]
  },
  {
   "cell_type": "code",
   "execution_count": 62,
   "metadata": {
    "colab": {
     "base_uri": "https://localhost:8080/",
     "height": 204
    },
    "colab_type": "code",
    "executionInfo": {
     "elapsed": 55950,
     "status": "ok",
     "timestamp": 1579833870040,
     "user": {
      "displayName": "Sarthak Thakur",
      "photoUrl": "https://lh3.googleusercontent.com/a-/AAuE7mAWk0GsK1qC19pEpt03n05cO2zE4lKukkLNKOD3HQ=s64",
      "userId": "17572914148893804079"
     },
     "user_tz": -330
    },
    "id": "N2RfcIj1SfYu",
    "outputId": "9f5862dd-cce3-4b88-ef0d-22e4e4c5eaec"
   },
   "outputs": [
    {
     "data": {
      "text/html": [
       "<div>\n",
       "<style scoped>\n",
       "    .dataframe tbody tr th:only-of-type {\n",
       "        vertical-align: middle;\n",
       "    }\n",
       "\n",
       "    .dataframe tbody tr th {\n",
       "        vertical-align: top;\n",
       "    }\n",
       "\n",
       "    .dataframe thead th {\n",
       "        text-align: right;\n",
       "    }\n",
       "</style>\n",
       "<table border=\"1\" class=\"dataframe\">\n",
       "  <thead>\n",
       "    <tr style=\"text-align: right;\">\n",
       "      <th></th>\n",
       "      <th>HR</th>\n",
       "      <th>O2Sat</th>\n",
       "      <th>Temp</th>\n",
       "      <th>SBP</th>\n",
       "      <th>MAP</th>\n",
       "      <th>DBP</th>\n",
       "      <th>Resp</th>\n",
       "      <th>FiO2</th>\n",
       "      <th>Glucose</th>\n",
       "      <th>Age</th>\n",
       "      <th>Gender</th>\n",
       "      <th>Unit1</th>\n",
       "      <th>Unit2</th>\n",
       "      <th>HospAdmTime</th>\n",
       "      <th>ICULOS</th>\n",
       "      <th>SepsisLabel</th>\n",
       "    </tr>\n",
       "  </thead>\n",
       "  <tbody>\n",
       "    <tr>\n",
       "      <th>0</th>\n",
       "      <td>NaN</td>\n",
       "      <td>NaN</td>\n",
       "      <td>NaN</td>\n",
       "      <td>NaN</td>\n",
       "      <td>NaN</td>\n",
       "      <td>NaN</td>\n",
       "      <td>NaN</td>\n",
       "      <td>NaN</td>\n",
       "      <td>NaN</td>\n",
       "      <td>83.16</td>\n",
       "      <td>0</td>\n",
       "      <td>NaN</td>\n",
       "      <td>NaN</td>\n",
       "      <td>-135.03</td>\n",
       "      <td>1</td>\n",
       "      <td>0</td>\n",
       "    </tr>\n",
       "    <tr>\n",
       "      <th>1</th>\n",
       "      <td>123.5</td>\n",
       "      <td>98.0</td>\n",
       "      <td>NaN</td>\n",
       "      <td>113.5</td>\n",
       "      <td>81.0</td>\n",
       "      <td>65.0</td>\n",
       "      <td>20.0</td>\n",
       "      <td>NaN</td>\n",
       "      <td>NaN</td>\n",
       "      <td>83.16</td>\n",
       "      <td>0</td>\n",
       "      <td>NaN</td>\n",
       "      <td>NaN</td>\n",
       "      <td>-135.03</td>\n",
       "      <td>2</td>\n",
       "      <td>0</td>\n",
       "    </tr>\n",
       "    <tr>\n",
       "      <th>2</th>\n",
       "      <td>117.5</td>\n",
       "      <td>99.0</td>\n",
       "      <td>NaN</td>\n",
       "      <td>93.0</td>\n",
       "      <td>69.0</td>\n",
       "      <td>55.0</td>\n",
       "      <td>17.5</td>\n",
       "      <td>NaN</td>\n",
       "      <td>NaN</td>\n",
       "      <td>83.16</td>\n",
       "      <td>0</td>\n",
       "      <td>NaN</td>\n",
       "      <td>NaN</td>\n",
       "      <td>-135.03</td>\n",
       "      <td>3</td>\n",
       "      <td>0</td>\n",
       "    </tr>\n",
       "    <tr>\n",
       "      <th>3</th>\n",
       "      <td>116.0</td>\n",
       "      <td>94.0</td>\n",
       "      <td>NaN</td>\n",
       "      <td>91.0</td>\n",
       "      <td>64.0</td>\n",
       "      <td>55.0</td>\n",
       "      <td>14.0</td>\n",
       "      <td>NaN</td>\n",
       "      <td>NaN</td>\n",
       "      <td>83.16</td>\n",
       "      <td>0</td>\n",
       "      <td>NaN</td>\n",
       "      <td>NaN</td>\n",
       "      <td>-135.03</td>\n",
       "      <td>4</td>\n",
       "      <td>0</td>\n",
       "    </tr>\n",
       "    <tr>\n",
       "      <th>4</th>\n",
       "      <td>113.0</td>\n",
       "      <td>97.0</td>\n",
       "      <td>NaN</td>\n",
       "      <td>89.0</td>\n",
       "      <td>66.0</td>\n",
       "      <td>53.0</td>\n",
       "      <td>15.0</td>\n",
       "      <td>NaN</td>\n",
       "      <td>76.0</td>\n",
       "      <td>83.16</td>\n",
       "      <td>0</td>\n",
       "      <td>NaN</td>\n",
       "      <td>NaN</td>\n",
       "      <td>-135.03</td>\n",
       "      <td>5</td>\n",
       "      <td>0</td>\n",
       "    </tr>\n",
       "  </tbody>\n",
       "</table>\n",
       "</div>"
      ],
      "text/plain": [
       "      HR  O2Sat  Temp    SBP   MAP   DBP  Resp  FiO2  Glucose    Age  Gender  \\\n",
       "0    NaN    NaN   NaN    NaN   NaN   NaN   NaN   NaN      NaN  83.16       0   \n",
       "1  123.5   98.0   NaN  113.5  81.0  65.0  20.0   NaN      NaN  83.16       0   \n",
       "2  117.5   99.0   NaN   93.0  69.0  55.0  17.5   NaN      NaN  83.16       0   \n",
       "3  116.0   94.0   NaN   91.0  64.0  55.0  14.0   NaN      NaN  83.16       0   \n",
       "4  113.0   97.0   NaN   89.0  66.0  53.0  15.0   NaN     76.0  83.16       0   \n",
       "\n",
       "   Unit1  Unit2  HospAdmTime  ICULOS  SepsisLabel  \n",
       "0    NaN    NaN      -135.03       1            0  \n",
       "1    NaN    NaN      -135.03       2            0  \n",
       "2    NaN    NaN      -135.03       3            0  \n",
       "3    NaN    NaN      -135.03       4            0  \n",
       "4    NaN    NaN      -135.03       5            0  "
      ]
     },
     "execution_count": 62,
     "metadata": {},
     "output_type": "execute_result"
    }
   ],
   "source": [
    "train = train[selected_cols]\n",
    "train.head()"
   ]
  },
  {
   "cell_type": "code",
   "execution_count": 17,
   "metadata": {
    "colab": {
     "base_uri": "https://localhost:8080/",
     "height": 1000
    },
    "colab_type": "code",
    "executionInfo": {
     "elapsed": 47983,
     "status": "ok",
     "timestamp": 1579833877888,
     "user": {
      "displayName": "Sarthak Thakur",
      "photoUrl": "https://lh3.googleusercontent.com/a-/AAuE7mAWk0GsK1qC19pEpt03n05cO2zE4lKukkLNKOD3HQ=s64",
      "userId": "17572914148893804079"
     },
     "user_tz": -330
    },
    "id": "dtFAATVFXGqj",
    "outputId": "aa863a0e-8cad-4f2f-e418-da8e5415f4b4"
   },
   "outputs": [
    {
     "data": {
      "image/png": "[encoded data removed]",
      "text/plain": [
       "<Figure size 360x360 with 1 Axes>"
      ]
     },
     "metadata": {
      "needs_background": "light"
     },
     "output_type": "display_data"
    },
    {
     "data": {
      "image/png": "[encoded data removed]",
      "text/plain": [
       "<Figure size 360x360 with 1 Axes>"
      ]
     },
     "metadata": {
      "needs_background": "light"
     },
     "output_type": "display_data"
    },
    {
     "data": {
      "image/png": "[encoded data removed]",
      "text/plain": [
       "<Figure size 360x360 with 1 Axes>"
      ]
     },
     "metadata": {
      "needs_background": "light"
     },
     "output_type": "display_data"
    }
   ],
   "source": [
    "for i,var in enumerate(cat_vars):\n",
    "    plt.figure(i)\n",
    "    plt.title(\"Count plot of \" + str(var))\n",
    "    sns.countplot(filter_train[var].dropna(), hue='SepsisLabel', data= filter_train);"
   ]
  },
  {
   "cell_type": "code",
   "execution_count": 64,
   "metadata": {
    "colab": {
     "base_uri": "https://localhost:8080/",
     "height": 272
    },
    "colab_type": "code",
    "executionInfo": {
     "elapsed": 51659,
     "status": "ok",
     "timestamp": 1579833884706,
     "user": {
      "displayName": "Sarthak Thakur",
      "photoUrl": "https://lh3.googleusercontent.com/a-/AAuE7mAWk0GsK1qC19pEpt03n05cO2zE4lKukkLNKOD3HQ=s64",
      "userId": "17572914148893804079"
     },
     "user_tz": -330
    },
    "id": "c8jgpVVybQqA",
    "outputId": "22f6a35c-74ac-4bcb-c385-437cf7a45bd6"
   },
   "outputs": [],
   "source": [
    "features = ['HR', 'O2Sat', 'Temp', 'SBP', 'MAP', 'DBP', 'Resp','FiO2','Glucose','Age','HospAdmTime','ICULOS','Gender','Unit1','Unit2']"
   ]
  },
  {
   "cell_type": "code",
   "execution_count": 20,
   "metadata": {
    "colab": {},
    "colab_type": "code",
    "id": "WoGcVdN1bCGc"
   },
   "outputs": [],
   "source": [
    "X_train = filter_train[features]\n",
    "y_train = filter_train['SepsisLabel']"
   ]
  },
  {
   "cell_type": "code",
   "execution_count": 21,
   "metadata": {
    "colab": {},
    "colab_type": "code",
    "id": "U1emCf3_b1_Q"
   },
   "outputs": [],
   "source": [
    "categorical = X_train.dtypes == object\n",
    "categorical['Unit1'] = True\n",
    "categorical['Unit2'] = True\n",
    "categorical['Gender'] = True"
   ]
  },
  {
   "cell_type": "code",
   "execution_count": 22,
   "metadata": {
    "colab": {},
    "colab_type": "code",
    "id": "Ve26UPEoZOj_"
   },
   "outputs": [],
   "source": [
    "cont_scale_pipeline = make_pipeline(SimpleImputer(strategy = \"median\"), \n",
    "                                    StandardScaler())\n",
    "cat_pipeline = make_pipeline(SimpleImputer(strategy = \"constant\", \n",
    "                                           fill_value = 999), \n",
    "                             OneHotEncoder(handle_unknown=\"ignore\"))\n",
    "preprocess_trans_scale = make_column_transformer((cont_scale_pipeline, \n",
    "                                                  ~categorical), \n",
    "                                                 (cat_pipeline, categorical))"
   ]
  },
  {
   "cell_type": "code",
   "execution_count": 23,
   "metadata": {
    "colab": {},
    "colab_type": "code",
    "id": "iiFITTzChVEm"
   },
   "outputs": [],
   "source": [
    "logistic_pipe_scale = make_pipeline(preprocess_trans_scale, \n",
    "                                    LogisticRegression(solver='lbfgs') )\n",
    "rf_pipe_scale = make_pipeline(preprocess_trans_scale, RandomForestClassifier())\n",
    "svc_pipe_scale = make_pipeline(preprocess_trans_scale, SVC())\n",
    "gb_pipe_scale = make_pipeline(preprocess_trans_scale, GradientBoostingClassifier())\n",
    "dt_pipe_scale = make_pipeline(preprocess_trans_scale, DecisionTreeClassifier() )\n",
    "gmm_pipe_scale = make_pipeline(preprocess_trans_scale, GaussianMixture(n_components=2))\n",
    "mlp_pipe_scale = make_pipeline(preprocess_trans_scale, MLPClassifier() )\n"
   ]
  },
  {
   "cell_type": "code",
   "execution_count": 24,
   "metadata": {
    "colab": {},
    "colab_type": "code",
    "id": "RlvcMbp3an1U"
   },
   "outputs": [],
   "source": [
    "scores_logistic_pipe_scale = cross_validate(logistic_pipe_scale, X_train, \n",
    "                                             y_train, \n",
    "                                             cv=StratifiedKFold(3, shuffle=True)\n",
    "                                             ,scoring=[\"average_precision\", \n",
    "                                                       \"roc_auc\", \"precision\", \n",
    "                                                       \"recall\"])\n",
    "\n",
    "\n",
    "\n",
    "scores_rf_pipe_scale = cross_validate(rf_pipe_scale, X_train, \n",
    "                                             y_train, \n",
    "                                             cv=StratifiedKFold(3, shuffle=True)\n",
    "                                             ,scoring=[\"average_precision\", \n",
    "                                                       \"roc_auc\", \"precision\", \n",
    "                                                       \"recall\"])\n",
    "\n",
    "\n",
    "\n",
    "scores_gb_pipe_scale = cross_validate(gb_pipe_scale, X_train, \n",
    "                                             y_train, \n",
    "                                             cv=StratifiedKFold(3, shuffle=True)\n",
    "                                             ,scoring=[\"average_precision\", \n",
    "                                                       \"roc_auc\", \"precision\", \n",
    "                                                       \"recall\"])\n",
    "\n",
    "\n",
    "\n",
    "scores_dt_pipe_scale = cross_validate(dt_pipe_scale, X_train, \n",
    "                                             y_train, \n",
    "                                             cv=StratifiedKFold(3, shuffle=True)\n",
    "                                             ,scoring=[\"average_precision\", \n",
    "                                                       \"roc_auc\", \"precision\", \n",
    "                                                       \"recall\"])\n",
    "\n",
    "\n",
    "scores_gmm_pipe_scale = cross_validate(gmm_pipe_scale, X_train, \n",
    "                                             y_train, \n",
    "                                             cv=StratifiedKFold(3, shuffle=True)\n",
    "                                             ,scoring=[\"average_precision\", \n",
    "                                                       \"roc_auc\", \"precision\", \n",
    "                                                       \"recall\"])\n",
    "\n",
    "scores_mlp_pipe_scale = cross_validate(mlp_pipe_scale, X_train, \n",
    "                                             y_train, \n",
    "                                             cv=StratifiedKFold(3, shuffle=True)\n",
    "                                             ,scoring=[\"average_precision\", \n",
    "                                                       \"roc_auc\", \"precision\", \n",
    "                                                       \"recall\"])"
   ]
  },
  {
   "cell_type": "code",
   "execution_count": 25,
   "metadata": {
    "colab": {},
    "colab_type": "code",
    "id": "Z-skPp42ef5a"
   },
   "outputs": [],
   "source": [
    "log_df = pd.DataFrame(scores_logistic_pipe_scale)\n",
    "log_df['model'] = 'LogisticRegression'\n",
    "\n",
    "dt_df = pd.DataFrame(scores_dt_pipe_scale)\n",
    "dt_df['model'] = 'DecisionTree'\n",
    "\n",
    "gb_df = pd.DataFrame(scores_gb_pipe_scale)\n",
    "gb_df['model'] = 'GradientBoosting'\n",
    "\n",
    "rf_df = pd.DataFrame(scores_rf_pipe_scale)\n",
    "rf_df['model'] = 'RandomForest'\n",
    "\n",
    "gmm_df = pd.DataFrame(scores_gmm_pipe_scale)\n",
    "gmm_df['model'] = 'GMM'\n",
    "\n",
    "mlp_df = pd.DataFrame(scores_mlp_pipe_scale)\n",
    "mlp_df['model'] = 'MLP'\n",
    "\n",
    "\n",
    "\n",
    "\n",
    "results = pd.concat([log_df, dt_df, gb_df, rf_df, gmm_df, mlp_df])"
   ]
  },
  {
   "cell_type": "code",
   "execution_count": 27,
   "metadata": {
    "colab": {
     "base_uri": "https://localhost:8080/",
     "height": 607
    },
    "colab_type": "code",
    "id": "iddV2rRjH_bE",
    "outputId": "69cc2fc7-3029-4cf1-c0dd-2b09f5804494"
   },
   "outputs": [
    {
     "data": {
      "text/html": [
       "<div>\n",
       "<style scoped>\n",
       "    .dataframe tbody tr th:only-of-type {\n",
       "        vertical-align: middle;\n",
       "    }\n",
       "\n",
       "    .dataframe tbody tr th {\n",
       "        vertical-align: top;\n",
       "    }\n",
       "\n",
       "    .dataframe thead th {\n",
       "        text-align: right;\n",
       "    }\n",
       "</style>\n",
       "<table border=\"1\" class=\"dataframe\">\n",
       "  <thead>\n",
       "    <tr style=\"text-align: right;\">\n",
       "      <th></th>\n",
       "      <th>fit_time</th>\n",
       "      <th>score_time</th>\n",
       "      <th>test_average_precision</th>\n",
       "      <th>test_roc_auc</th>\n",
       "      <th>test_precision</th>\n",
       "      <th>test_recall</th>\n",
       "      <th>model</th>\n",
       "    </tr>\n",
       "  </thead>\n",
       "  <tbody>\n",
       "    <tr>\n",
       "      <th>0</th>\n",
       "      <td>5.697273</td>\n",
       "      <td>1.103642</td>\n",
       "      <td>0.075483</td>\n",
       "      <td>0.734359</td>\n",
       "      <td>0.265060</td>\n",
       "      <td>0.002943</td>\n",
       "      <td>LogisticRegression</td>\n",
       "    </tr>\n",
       "    <tr>\n",
       "      <th>1</th>\n",
       "      <td>5.986226</td>\n",
       "      <td>1.125372</td>\n",
       "      <td>0.069325</td>\n",
       "      <td>0.721783</td>\n",
       "      <td>0.109244</td>\n",
       "      <td>0.001739</td>\n",
       "      <td>LogisticRegression</td>\n",
       "    </tr>\n",
       "    <tr>\n",
       "      <th>2</th>\n",
       "      <td>4.611776</td>\n",
       "      <td>0.993752</td>\n",
       "      <td>0.073069</td>\n",
       "      <td>0.729195</td>\n",
       "      <td>0.215909</td>\n",
       "      <td>0.002542</td>\n",
       "      <td>LogisticRegression</td>\n",
       "    </tr>\n",
       "    <tr>\n",
       "      <th>0</th>\n",
       "      <td>13.165433</td>\n",
       "      <td>1.092246</td>\n",
       "      <td>0.111703</td>\n",
       "      <td>0.659724</td>\n",
       "      <td>0.295361</td>\n",
       "      <td>0.334671</td>\n",
       "      <td>DecisionTree</td>\n",
       "    </tr>\n",
       "    <tr>\n",
       "      <th>1</th>\n",
       "      <td>12.347889</td>\n",
       "      <td>1.081132</td>\n",
       "      <td>0.127103</td>\n",
       "      <td>0.671164</td>\n",
       "      <td>0.321489</td>\n",
       "      <td>0.357057</td>\n",
       "      <td>DecisionTree</td>\n",
       "    </tr>\n",
       "    <tr>\n",
       "      <th>2</th>\n",
       "      <td>12.392362</td>\n",
       "      <td>1.065242</td>\n",
       "      <td>0.128750</td>\n",
       "      <td>0.673370</td>\n",
       "      <td>0.322242</td>\n",
       "      <td>0.361472</td>\n",
       "      <td>DecisionTree</td>\n",
       "    </tr>\n",
       "    <tr>\n",
       "      <th>0</th>\n",
       "      <td>189.676066</td>\n",
       "      <td>1.881074</td>\n",
       "      <td>0.116495</td>\n",
       "      <td>0.790190</td>\n",
       "      <td>0.603774</td>\n",
       "      <td>0.004280</td>\n",
       "      <td>GradientBoosting</td>\n",
       "    </tr>\n",
       "    <tr>\n",
       "      <th>1</th>\n",
       "      <td>189.268535</td>\n",
       "      <td>1.855778</td>\n",
       "      <td>0.106670</td>\n",
       "      <td>0.785284</td>\n",
       "      <td>0.513514</td>\n",
       "      <td>0.005084</td>\n",
       "      <td>GradientBoosting</td>\n",
       "    </tr>\n",
       "    <tr>\n",
       "      <th>2</th>\n",
       "      <td>192.566688</td>\n",
       "      <td>1.997134</td>\n",
       "      <td>0.115179</td>\n",
       "      <td>0.793729</td>\n",
       "      <td>0.540230</td>\n",
       "      <td>0.006288</td>\n",
       "      <td>GradientBoosting</td>\n",
       "    </tr>\n",
       "    <tr>\n",
       "      <th>0</th>\n",
       "      <td>145.752567</td>\n",
       "      <td>19.231705</td>\n",
       "      <td>0.503132</td>\n",
       "      <td>0.944831</td>\n",
       "      <td>0.902439</td>\n",
       "      <td>0.074238</td>\n",
       "      <td>RandomForest</td>\n",
       "    </tr>\n",
       "    <tr>\n",
       "      <th>1</th>\n",
       "      <td>148.760231</td>\n",
       "      <td>19.234103</td>\n",
       "      <td>0.483452</td>\n",
       "      <td>0.941073</td>\n",
       "      <td>0.891652</td>\n",
       "      <td>0.067157</td>\n",
       "      <td>RandomForest</td>\n",
       "    </tr>\n",
       "    <tr>\n",
       "      <th>2</th>\n",
       "      <td>146.411412</td>\n",
       "      <td>19.307386</td>\n",
       "      <td>0.482152</td>\n",
       "      <td>0.939717</td>\n",
       "      <td>0.894921</td>\n",
       "      <td>0.068361</td>\n",
       "      <td>RandomForest</td>\n",
       "    </tr>\n",
       "    <tr>\n",
       "      <th>0</th>\n",
       "      <td>15.400795</td>\n",
       "      <td>1.482038</td>\n",
       "      <td>0.027157</td>\n",
       "      <td>0.631135</td>\n",
       "      <td>0.029025</td>\n",
       "      <td>0.346041</td>\n",
       "      <td>GMM</td>\n",
       "    </tr>\n",
       "    <tr>\n",
       "      <th>1</th>\n",
       "      <td>18.529756</td>\n",
       "      <td>1.384720</td>\n",
       "      <td>0.027483</td>\n",
       "      <td>0.632742</td>\n",
       "      <td>0.029507</td>\n",
       "      <td>0.349298</td>\n",
       "      <td>GMM</td>\n",
       "    </tr>\n",
       "    <tr>\n",
       "      <th>2</th>\n",
       "      <td>14.932855</td>\n",
       "      <td>1.471690</td>\n",
       "      <td>0.013973</td>\n",
       "      <td>0.368439</td>\n",
       "      <td>0.016164</td>\n",
       "      <td>0.651906</td>\n",
       "      <td>GMM</td>\n",
       "    </tr>\n",
       "    <tr>\n",
       "      <th>0</th>\n",
       "      <td>133.659479</td>\n",
       "      <td>1.761399</td>\n",
       "      <td>0.110108</td>\n",
       "      <td>0.787174</td>\n",
       "      <td>0.397059</td>\n",
       "      <td>0.007223</td>\n",
       "      <td>MLP</td>\n",
       "    </tr>\n",
       "    <tr>\n",
       "      <th>1</th>\n",
       "      <td>128.834686</td>\n",
       "      <td>1.840186</td>\n",
       "      <td>0.104491</td>\n",
       "      <td>0.786919</td>\n",
       "      <td>0.447368</td>\n",
       "      <td>0.004548</td>\n",
       "      <td>MLP</td>\n",
       "    </tr>\n",
       "    <tr>\n",
       "      <th>2</th>\n",
       "      <td>131.577912</td>\n",
       "      <td>1.731583</td>\n",
       "      <td>0.109445</td>\n",
       "      <td>0.790298</td>\n",
       "      <td>0.392405</td>\n",
       "      <td>0.008294</td>\n",
       "      <td>MLP</td>\n",
       "    </tr>\n",
       "  </tbody>\n",
       "</table>\n",
       "</div>"
      ],
      "text/plain": [
       "     fit_time  score_time  test_average_precision  test_roc_auc  \\\n",
       "0    5.697273    1.103642                0.075483      0.734359   \n",
       "1    5.986226    1.125372                0.069325      0.721783   \n",
       "2    4.611776    0.993752                0.073069      0.729195   \n",
       "0   13.165433    1.092246                0.111703      0.659724   \n",
       "1   12.347889    1.081132                0.127103      0.671164   \n",
       "2   12.392362    1.065242                0.128750      0.673370   \n",
       "0  189.676066    1.881074                0.116495      0.790190   \n",
       "1  189.268535    1.855778                0.106670      0.785284   \n",
       "2  192.566688    1.997134                0.115179      0.793729   \n",
       "0  145.752567   19.231705                0.503132      0.944831   \n",
       "1  148.760231   19.234103                0.483452      0.941073   \n",
       "2  146.411412   19.307386                0.482152      0.939717   \n",
       "0   15.400795    1.482038                0.027157      0.631135   \n",
       "1   18.529756    1.384720                0.027483      0.632742   \n",
       "2   14.932855    1.471690                0.013973      0.368439   \n",
       "0  133.659479    1.761399                0.110108      0.787174   \n",
       "1  128.834686    1.840186                0.104491      0.786919   \n",
       "2  131.577912    1.731583                0.109445      0.790298   \n",
       "\n",
       "   test_precision  test_recall               model  \n",
       "0        0.265060     0.002943  LogisticRegression  \n",
       "1        0.109244     0.001739  LogisticRegression  \n",
       "2        0.215909     0.002542  LogisticRegression  \n",
       "0        0.295361     0.334671        DecisionTree  \n",
       "1        0.321489     0.357057        DecisionTree  \n",
       "2        0.322242     0.361472        DecisionTree  \n",
       "0        0.603774     0.004280    GradientBoosting  \n",
       "1        0.513514     0.005084    GradientBoosting  \n",
       "2        0.540230     0.006288    GradientBoosting  \n",
       "0        0.902439     0.074238        RandomForest  \n",
       "1        0.891652     0.067157        RandomForest  \n",
       "2        0.894921     0.068361        RandomForest  \n",
       "0        0.029025     0.346041                 GMM  \n",
       "1        0.029507     0.349298                 GMM  \n",
       "2        0.016164     0.651906                 GMM  \n",
       "0        0.397059     0.007223                 MLP  \n",
       "1        0.447368     0.004548                 MLP  \n",
       "2        0.392405     0.008294                 MLP  "
      ]
     },
     "execution_count": 27,
     "metadata": {},
     "output_type": "execute_result"
    }
   ],
   "source": [
    "results"
   ]
  },
  {
   "cell_type": "code",
   "execution_count": 49,
   "metadata": {},
   "outputs": [
    {
     "data": {
      "text/plain": [
       "['model.pkl']"
      ]
     },
     "execution_count": 49,
     "metadata": {},
     "output_type": "execute_result"
    }
   ],
   "source": [
    "import pickle\n",
    "from sklearn.externals import joblib\n",
    "filename = \"model.pkl\"\n",
    "joblib.dump(rf_pipe_scale,filename)"
   ]
  },
  {
   "cell_type": "code",
   "execution_count": 41,
   "metadata": {},
   "outputs": [],
   "source": [
    "import pickle"
   ]
  },
  {
   "cell_type": "code",
   "execution_count": 52,
   "metadata": {},
   "outputs": [],
   "source": [
    "modell = joblib.load(filename)"
   ]
  },
  {
   "cell_type": "code",
   "execution_count": null,
   "metadata": {},
   "outputs": [],
   "source": []
  }
 ],
 "metadata": {
  "colab": {
   "collapsed_sections": [],
   "name": "EDA_and_Baseline.ipynb",
   "provenance": [],
   "toc_visible": true
  },
  "kernelspec": {
   "display_name": "Python 3",
   "language": "python",
   "name": "python3"
  },
  "language_info": {
   "codemirror_mode": {
    "name": "ipython",
    "version": 3
   },
   "file_extension": ".py",
   "mimetype": "text/x-python",
   "name": "python",
   "nbconvert_exporter": "python",
   "pygments_lexer": "ipython3",
   "version": "3.6.10"
  }
 },
 "nbformat": 4,
 "nbformat_minor": 1
}
